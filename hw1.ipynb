{
 "cells": [
  {
   "cell_type": "markdown",
   "metadata": {},
   "source": [
    "# Identify:\n",
    "\n",
    "Please fill-in your ID in the following cell, **only id numbers, no names!**\n"
   ]
  },
  {
   "cell_type": "code",
   "execution_count": 8,
   "metadata": {},
   "outputs": [],
   "source": [
    "id1 = \"318634961\""
   ]
  },
  {
   "cell_type": "code",
   "execution_count": 9,
   "metadata": {},
   "outputs": [],
   "source": [
    "df = pd.DataFrame([id1])"
   ]
  },
  {
   "cell_type": "markdown",
   "metadata": {},
   "source": [
    "Uncomment in case two students are doing the assignment together:"
   ]
  },
  {
   "cell_type": "code",
   "execution_count": 10,
   "metadata": {},
   "outputs": [],
   "source": [
    "#df = pd.DataFrame([id1,id2])"
   ]
  },
  {
   "cell_type": "code",
   "execution_count": 11,
   "metadata": {},
   "outputs": [],
   "source": [
    "df.to_clipboard(index=False,header=False)"
   ]
  },
  {
   "cell_type": "markdown",
   "metadata": {},
   "source": [
    "Please fill your names here:"
   ]
  },
  {
   "cell_type": "markdown",
   "metadata": {},
   "source": [
    "ariel nabeth"
   ]
  },
  {
   "cell_type": "markdown",
   "metadata": {},
   "source": [
    "---"
   ]
  },
  {
   "cell_type": "markdown",
   "metadata": {},
   "source": [
    "----"
   ]
  },
  {
   "cell_type": "markdown",
   "metadata": {},
   "source": [
    "# Write your answers here\n",
    "\n",
    "add as much lines of code and markdown as you need for each answer"
   ]
  },
  {
   "cell_type": "markdown",
   "metadata": {},
   "source": [
    "# Q1 "
   ]
  },
  {
   "cell_type": "code",
   "execution_count": null,
   "metadata": {},
   "outputs": [],
   "source": []
  },
  {
   "cell_type": "code",
   "execution_count": 12,
   "metadata": {},
   "outputs": [],
   "source": [
    "import numpy as np\n",
    "import pandas as pd\n",
    "import datetime as dt"
   ]
  },
  {
   "cell_type": "code",
   "execution_count": 13,
   "metadata": {},
   "outputs": [],
   "source": [
    "url = \"https://raw.githubusercontent.com/owid/covid-19-data/master/public/data/vaccinations/vaccinations.csv\"\n",
    "df=pd.read_csv(url)"
   ]
  },
  {
   "cell_type": "code",
   "execution_count": 14,
   "metadata": {},
   "outputs": [
    {
     "data": {
      "text/plain": [
       "<bound method NDFrame.copy of 7       2021-03-01\n",
       "8       2021-03-02\n",
       "9       2021-03-03\n",
       "10      2021-03-04\n",
       "11      2021-03-05\n",
       "           ...    \n",
       "39744   2021-03-27\n",
       "39745   2021-03-28\n",
       "39746   2021-03-29\n",
       "39747   2021-03-30\n",
       "39748   2021-03-31\n",
       "Name: date, Length: 5316, dtype: datetime64[ns]>"
      ]
     },
     "execution_count": 14,
     "metadata": {},
     "output_type": "execute_result"
    }
   ],
   "source": [
    "\n",
    "df.date=pd.to_datetime(df.date)\n",
    "month=(df.date.dt.month_name()==\"March\")\n",
    "my_month=df.date[month].copy\n",
    "my_month"
   ]
  },
  {
   "cell_type": "markdown",
   "metadata": {},
   "source": [
    " # Q2"
   ]
  },
  {
   "cell_type": "code",
   "execution_count": 15,
   "metadata": {},
   "outputs": [
    {
     "data": {
      "text/html": [
       "<div>\n",
       "<style scoped>\n",
       "    .dataframe tbody tr th:only-of-type {\n",
       "        vertical-align: middle;\n",
       "    }\n",
       "\n",
       "    .dataframe tbody tr th {\n",
       "        vertical-align: top;\n",
       "    }\n",
       "\n",
       "    .dataframe thead th {\n",
       "        text-align: right;\n",
       "    }\n",
       "</style>\n",
       "<table border=\"1\" class=\"dataframe\">\n",
       "  <thead>\n",
       "    <tr style=\"text-align: right;\">\n",
       "      <th></th>\n",
       "      <th>daily_vaccinations</th>\n",
       "      <th>people_vaccinated_per_hundred</th>\n",
       "    </tr>\n",
       "  </thead>\n",
       "  <tbody>\n",
       "    <tr>\n",
       "      <th>0</th>\n",
       "      <td>0.0</td>\n",
       "      <td>0.00</td>\n",
       "    </tr>\n",
       "    <tr>\n",
       "      <th>1</th>\n",
       "      <td>1367.0</td>\n",
       "      <td>0.00</td>\n",
       "    </tr>\n",
       "    <tr>\n",
       "      <th>2</th>\n",
       "      <td>1367.0</td>\n",
       "      <td>0.00</td>\n",
       "    </tr>\n",
       "    <tr>\n",
       "      <th>3</th>\n",
       "      <td>1367.0</td>\n",
       "      <td>0.00</td>\n",
       "    </tr>\n",
       "    <tr>\n",
       "      <th>4</th>\n",
       "      <td>1367.0</td>\n",
       "      <td>0.00</td>\n",
       "    </tr>\n",
       "    <tr>\n",
       "      <th>...</th>\n",
       "      <td>...</td>\n",
       "      <td>...</td>\n",
       "    </tr>\n",
       "    <tr>\n",
       "      <th>39877</th>\n",
       "      <td>60047.0</td>\n",
       "      <td>12.45</td>\n",
       "    </tr>\n",
       "    <tr>\n",
       "      <th>39878</th>\n",
       "      <td>61908.0</td>\n",
       "      <td>12.54</td>\n",
       "    </tr>\n",
       "    <tr>\n",
       "      <th>39879</th>\n",
       "      <td>66884.0</td>\n",
       "      <td>12.76</td>\n",
       "    </tr>\n",
       "    <tr>\n",
       "      <th>39880</th>\n",
       "      <td>53633.0</td>\n",
       "      <td>0.00</td>\n",
       "    </tr>\n",
       "    <tr>\n",
       "      <th>39881</th>\n",
       "      <td>59050.0</td>\n",
       "      <td>13.01</td>\n",
       "    </tr>\n",
       "  </tbody>\n",
       "</table>\n",
       "<p>39882 rows × 2 columns</p>\n",
       "</div>"
      ],
      "text/plain": [
       "       daily_vaccinations  people_vaccinated_per_hundred\n",
       "0                     0.0                           0.00\n",
       "1                  1367.0                           0.00\n",
       "2                  1367.0                           0.00\n",
       "3                  1367.0                           0.00\n",
       "4                  1367.0                           0.00\n",
       "...                   ...                            ...\n",
       "39877             60047.0                          12.45\n",
       "39878             61908.0                          12.54\n",
       "39879             66884.0                          12.76\n",
       "39880             53633.0                           0.00\n",
       "39881             59050.0                          13.01\n",
       "\n",
       "[39882 rows x 2 columns]"
      ]
     },
     "execution_count": 15,
     "metadata": {},
     "output_type": "execute_result"
    }
   ],
   "source": [
    " vacc=df.loc[:,['daily_vaccinations',\"people_vaccinated_per_hundred\"]]\n",
    "vacc.fillna(0,inplace=True)\n",
    "vacc"
   ]
  },
  {
   "cell_type": "markdown",
   "metadata": {},
   "source": [
    "# Q3"
   ]
  },
  {
   "cell_type": "code",
   "execution_count": 17,
   "metadata": {},
   "outputs": [],
   "source": [
    "df['date'] = pd.to_datetime(df.date)\n",
    "df['month'] = pd.DatetimeIndex(df.date).month\n",
    "df_March = df[df.month == 3]\n"
   ]
  },
  {
   "cell_type": "code",
   "execution_count": 18,
   "metadata": {},
   "outputs": [],
   "source": [
    "data_with_index = df_March.set_index(\"location\")\n",
    "data_with_index = data_with_index.drop([\"World\",\"Africa\",\"Asia\",\"Upper middle income\",\"High income\",\"South America\",\"North America\",\"Europe\",\"Kosovo\",\"Low income\",\"Northern Cyprus\",\"Northern Ireland\",\"Oceania\",\"Upper middle income\",\"Wales\"])\n",
    "\n",
    "\n",
    "  "
   ]
  },
  {
   "cell_type": "code",
   "execution_count": 19,
   "metadata": {},
   "outputs": [
    {
     "data": {
      "text/html": [
       "<div>\n",
       "<style scoped>\n",
       "    .dataframe tbody tr th:only-of-type {\n",
       "        vertical-align: middle;\n",
       "    }\n",
       "\n",
       "    .dataframe tbody tr th {\n",
       "        vertical-align: top;\n",
       "    }\n",
       "\n",
       "    .dataframe thead th {\n",
       "        text-align: right;\n",
       "    }\n",
       "</style>\n",
       "<table border=\"1\" class=\"dataframe\">\n",
       "  <thead>\n",
       "    <tr style=\"text-align: right;\">\n",
       "      <th></th>\n",
       "      <th>location</th>\n",
       "      <th>date</th>\n",
       "      <th>daily_vaccinations</th>\n",
       "    </tr>\n",
       "  </thead>\n",
       "  <tbody>\n",
       "    <tr>\n",
       "      <th>7242</th>\n",
       "      <td>China</td>\n",
       "      <td>2021-03-31</td>\n",
       "      <td>4851614.0</td>\n",
       "    </tr>\n",
       "  </tbody>\n",
       "</table>\n",
       "</div>"
      ],
      "text/plain": [
       "     location       date  daily_vaccinations\n",
       "7242    China 2021-03-31           4851614.0"
      ]
     },
     "execution_count": 19,
     "metadata": {},
     "output_type": "execute_result"
    }
   ],
   "source": [
    "max=data_with_index.daily_vaccinations.max()\n",
    "max_vacc=df_March.loc[(df[\"daily_vaccinations\"] ==max)] \n",
    "max_vacc[['location','date',\"daily_vaccinations\"]]\n"
   ]
  },
  {
   "cell_type": "markdown",
   "metadata": {},
   "source": [
    "# Q4"
   ]
  },
  {
   "cell_type": "code",
   "execution_count": null,
   "metadata": {},
   "outputs": [],
   "source": [
    "import statistics\n",
    "print(\"mean:\",df_March.daily_vaccinations.mean())\n",
    "print(\"Meadian:\",df_March.daily_vaccinations.median())"
   ]
  },
  {
   "cell_type": "code",
   "execution_count": 23,
   "metadata": {},
   "outputs": [
    {
     "ename": "SyntaxError",
     "evalue": "invalid syntax (<ipython-input-23-57c4c6aa4bc9>, line 1)",
     "output_type": "error",
     "traceback": [
      "\u001b[0;36m  File \u001b[0;32m\"<ipython-input-23-57c4c6aa4bc9>\"\u001b[0;36m, line \u001b[0;32m1\u001b[0m\n\u001b[0;31m    הממוצע גדול יותר\u001b[0m\n\u001b[0m           ^\u001b[0m\n\u001b[0;31mSyntaxError\u001b[0m\u001b[0;31m:\u001b[0m invalid syntax\n"
     ]
    }
   ],
   "source": []
  },
  {
   "cell_type": "markdown",
   "metadata": {},
   "source": [
    "# Q5"
   ]
  },
  {
   "cell_type": "code",
   "execution_count": 37,
   "metadata": {},
   "outputs": [
    {
     "data": {
      "text/html": [
       "<div>\n",
       "<style scoped>\n",
       "    .dataframe tbody tr th:only-of-type {\n",
       "        vertical-align: middle;\n",
       "    }\n",
       "\n",
       "    .dataframe tbody tr th {\n",
       "        vertical-align: top;\n",
       "    }\n",
       "\n",
       "    .dataframe thead th {\n",
       "        text-align: right;\n",
       "    }\n",
       "</style>\n",
       "<table border=\"1\" class=\"dataframe\">\n",
       "  <thead>\n",
       "    <tr style=\"text-align: right;\">\n",
       "      <th></th>\n",
       "      <th>location</th>\n",
       "      <th>iso_code</th>\n",
       "      <th>date</th>\n",
       "      <th>total_vaccinations</th>\n",
       "      <th>people_vaccinated</th>\n",
       "      <th>people_fully_vaccinated</th>\n",
       "      <th>daily_vaccinations_raw</th>\n",
       "      <th>daily_vaccinations</th>\n",
       "      <th>total_vaccinations_per_hundred</th>\n",
       "      <th>people_vaccinated_per_hundred</th>\n",
       "      <th>people_fully_vaccinated_per_hundred</th>\n",
       "      <th>daily_vaccinations_per_million</th>\n",
       "      <th>month</th>\n",
       "    </tr>\n",
       "  </thead>\n",
       "  <tbody>\n",
       "    <tr>\n",
       "      <th>17615</th>\n",
       "      <td>Israel</td>\n",
       "      <td>ISR</td>\n",
       "      <td>2021-03-01</td>\n",
       "      <td>8222293.0</td>\n",
       "      <td>4763802.0</td>\n",
       "      <td>3458491.0</td>\n",
       "      <td>106784.0</td>\n",
       "      <td>98138.0</td>\n",
       "      <td>94.99</td>\n",
       "      <td>55.04</td>\n",
       "      <td>39.96</td>\n",
       "      <td>11338.0</td>\n",
       "      <td>3</td>\n",
       "    </tr>\n",
       "    <tr>\n",
       "      <th>17616</th>\n",
       "      <td>Israel</td>\n",
       "      <td>ISR</td>\n",
       "      <td>2021-03-02</td>\n",
       "      <td>8327838.0</td>\n",
       "      <td>4804809.0</td>\n",
       "      <td>3523029.0</td>\n",
       "      <td>105545.0</td>\n",
       "      <td>92155.0</td>\n",
       "      <td>96.21</td>\n",
       "      <td>55.51</td>\n",
       "      <td>40.70</td>\n",
       "      <td>10647.0</td>\n",
       "      <td>3</td>\n",
       "    </tr>\n",
       "    <tr>\n",
       "      <th>17617</th>\n",
       "      <td>Israel</td>\n",
       "      <td>ISR</td>\n",
       "      <td>2021-03-03</td>\n",
       "      <td>8436193.0</td>\n",
       "      <td>4846595.0</td>\n",
       "      <td>3589598.0</td>\n",
       "      <td>108355.0</td>\n",
       "      <td>89954.0</td>\n",
       "      <td>97.47</td>\n",
       "      <td>55.99</td>\n",
       "      <td>41.47</td>\n",
       "      <td>10393.0</td>\n",
       "      <td>3</td>\n",
       "    </tr>\n",
       "    <tr>\n",
       "      <th>17618</th>\n",
       "      <td>Israel</td>\n",
       "      <td>ISR</td>\n",
       "      <td>2021-03-04</td>\n",
       "      <td>8554527.0</td>\n",
       "      <td>4886071.0</td>\n",
       "      <td>3668456.0</td>\n",
       "      <td>118334.0</td>\n",
       "      <td>90277.0</td>\n",
       "      <td>98.83</td>\n",
       "      <td>56.45</td>\n",
       "      <td>42.38</td>\n",
       "      <td>10430.0</td>\n",
       "      <td>3</td>\n",
       "    </tr>\n",
       "    <tr>\n",
       "      <th>17619</th>\n",
       "      <td>Israel</td>\n",
       "      <td>ISR</td>\n",
       "      <td>2021-03-05</td>\n",
       "      <td>8612015.0</td>\n",
       "      <td>4903235.0</td>\n",
       "      <td>3708780.0</td>\n",
       "      <td>57488.0</td>\n",
       "      <td>90255.0</td>\n",
       "      <td>99.50</td>\n",
       "      <td>56.65</td>\n",
       "      <td>42.85</td>\n",
       "      <td>10427.0</td>\n",
       "      <td>3</td>\n",
       "    </tr>\n",
       "    <tr>\n",
       "      <th>17620</th>\n",
       "      <td>Israel</td>\n",
       "      <td>ISR</td>\n",
       "      <td>2021-03-06</td>\n",
       "      <td>8647862.0</td>\n",
       "      <td>4913803.0</td>\n",
       "      <td>3734059.0</td>\n",
       "      <td>35847.0</td>\n",
       "      <td>89749.0</td>\n",
       "      <td>99.91</td>\n",
       "      <td>56.77</td>\n",
       "      <td>43.14</td>\n",
       "      <td>10369.0</td>\n",
       "      <td>3</td>\n",
       "    </tr>\n",
       "    <tr>\n",
       "      <th>17621</th>\n",
       "      <td>Israel</td>\n",
       "      <td>ISR</td>\n",
       "      <td>2021-03-07</td>\n",
       "      <td>8751522.0</td>\n",
       "      <td>4944776.0</td>\n",
       "      <td>3806746.0</td>\n",
       "      <td>103660.0</td>\n",
       "      <td>90859.0</td>\n",
       "      <td>101.11</td>\n",
       "      <td>57.13</td>\n",
       "      <td>43.98</td>\n",
       "      <td>10497.0</td>\n",
       "      <td>3</td>\n",
       "    </tr>\n",
       "  </tbody>\n",
       "</table>\n",
       "</div>"
      ],
      "text/plain": [
       "      location iso_code       date  total_vaccinations  people_vaccinated  \\\n",
       "17615   Israel      ISR 2021-03-01           8222293.0          4763802.0   \n",
       "17616   Israel      ISR 2021-03-02           8327838.0          4804809.0   \n",
       "17617   Israel      ISR 2021-03-03           8436193.0          4846595.0   \n",
       "17618   Israel      ISR 2021-03-04           8554527.0          4886071.0   \n",
       "17619   Israel      ISR 2021-03-05           8612015.0          4903235.0   \n",
       "17620   Israel      ISR 2021-03-06           8647862.0          4913803.0   \n",
       "17621   Israel      ISR 2021-03-07           8751522.0          4944776.0   \n",
       "\n",
       "       people_fully_vaccinated  daily_vaccinations_raw  daily_vaccinations  \\\n",
       "17615                3458491.0                106784.0             98138.0   \n",
       "17616                3523029.0                105545.0             92155.0   \n",
       "17617                3589598.0                108355.0             89954.0   \n",
       "17618                3668456.0                118334.0             90277.0   \n",
       "17619                3708780.0                 57488.0             90255.0   \n",
       "17620                3734059.0                 35847.0             89749.0   \n",
       "17621                3806746.0                103660.0             90859.0   \n",
       "\n",
       "       total_vaccinations_per_hundred  people_vaccinated_per_hundred  \\\n",
       "17615                           94.99                          55.04   \n",
       "17616                           96.21                          55.51   \n",
       "17617                           97.47                          55.99   \n",
       "17618                           98.83                          56.45   \n",
       "17619                           99.50                          56.65   \n",
       "17620                           99.91                          56.77   \n",
       "17621                          101.11                          57.13   \n",
       "\n",
       "       people_fully_vaccinated_per_hundred  daily_vaccinations_per_million  \\\n",
       "17615                                39.96                         11338.0   \n",
       "17616                                40.70                         10647.0   \n",
       "17617                                41.47                         10393.0   \n",
       "17618                                42.38                         10430.0   \n",
       "17619                                42.85                         10427.0   \n",
       "17620                                43.14                         10369.0   \n",
       "17621                                43.98                         10497.0   \n",
       "\n",
       "       month  \n",
       "17615      3  \n",
       "17616      3  \n",
       "17617      3  \n",
       "17618      3  \n",
       "17619      3  \n",
       "17620      3  \n",
       "17621      3  "
      ]
     },
     "execution_count": 37,
     "metadata": {},
     "output_type": "execute_result"
    }
   ],
   "source": [
    "Israel = df_March.loc[df_March.location == 'Israel']\n",
    "Israel_7days=Israel.iloc[0:7]\n",
    "Israel_7days\n",
    "mean=Israel_7days.people_vaccinated_per_hundred.mean()\n",
    "mean\n",
    "\n",
    "\n"
   ]
  },
  {
   "cell_type": "markdown",
   "metadata": {},
   "source": [
    "# Q6"
   ]
  },
  {
   "cell_type": "code",
   "execution_count": null,
   "metadata": {},
   "outputs": [],
   "source": [
    "url = 'https://raw.githubusercontent.com/nlihin/data-analytics/main/datasets/TripAdvisor_Bangkok.csv'\n",
    "house_df = pd.read_csv(url)\n",
    "house_df.head()"
   ]
  },
  {
   "cell_type": "markdown",
   "metadata": {},
   "source": [
    "# Q7"
   ]
  },
  {
   "cell_type": "code",
   "execution_count": 64,
   "metadata": {},
   "outputs": [
    {
     "data": {
      "text/html": [
       "<div>\n",
       "<style scoped>\n",
       "    .dataframe tbody tr th:only-of-type {\n",
       "        vertical-align: middle;\n",
       "    }\n",
       "\n",
       "    .dataframe tbody tr th {\n",
       "        vertical-align: top;\n",
       "    }\n",
       "\n",
       "    .dataframe thead th {\n",
       "        text-align: right;\n",
       "    }\n",
       "</style>\n",
       "<table border=\"1\" class=\"dataframe\">\n",
       "  <thead>\n",
       "    <tr style=\"text-align: right;\">\n",
       "      <th></th>\n",
       "      <th>people_vaccinated_per_hundred</th>\n",
       "    </tr>\n",
       "    <tr>\n",
       "      <th>location</th>\n",
       "      <th></th>\n",
       "    </tr>\n",
       "  </thead>\n",
       "  <tbody>\n",
       "    <tr>\n",
       "      <th>Gibraltar</th>\n",
       "      <td>94.21</td>\n",
       "    </tr>\n",
       "    <tr>\n",
       "      <th>Saint Helena</th>\n",
       "      <td>71.55</td>\n",
       "    </tr>\n",
       "    <tr>\n",
       "      <th>Seychelles</th>\n",
       "      <td>64.76</td>\n",
       "    </tr>\n",
       "    <tr>\n",
       "      <th>Falkland Islands</th>\n",
       "      <td>62.79</td>\n",
       "    </tr>\n",
       "    <tr>\n",
       "      <th>Israel</th>\n",
       "      <td>60.63</td>\n",
       "    </tr>\n",
       "    <tr>\n",
       "      <th>...</th>\n",
       "      <td>...</td>\n",
       "    </tr>\n",
       "    <tr>\n",
       "      <th>Macao</th>\n",
       "      <td>NaN</td>\n",
       "    </tr>\n",
       "    <tr>\n",
       "      <th>Qatar</th>\n",
       "      <td>NaN</td>\n",
       "    </tr>\n",
       "    <tr>\n",
       "      <th>Saudi Arabia</th>\n",
       "      <td>NaN</td>\n",
       "    </tr>\n",
       "    <tr>\n",
       "      <th>Trinidad and Tobago</th>\n",
       "      <td>NaN</td>\n",
       "    </tr>\n",
       "    <tr>\n",
       "      <th>United Arab Emirates</th>\n",
       "      <td>NaN</td>\n",
       "    </tr>\n",
       "  </tbody>\n",
       "</table>\n",
       "<p>196 rows × 1 columns</p>\n",
       "</div>"
      ],
      "text/plain": [
       "                      people_vaccinated_per_hundred\n",
       "location                                           \n",
       "Gibraltar                                     94.21\n",
       "Saint Helena                                  71.55\n",
       "Seychelles                                    64.76\n",
       "Falkland Islands                              62.79\n",
       "Israel                                        60.63\n",
       "...                                             ...\n",
       "Macao                                           NaN\n",
       "Qatar                                           NaN\n",
       "Saudi Arabia                                    NaN\n",
       "Trinidad and Tobago                             NaN\n",
       "United Arab Emirates                            NaN\n",
       "\n",
       "[196 rows x 1 columns]"
      ]
     },
     "execution_count": 64,
     "metadata": {},
     "output_type": "execute_result"
    }
   ],
   "source": [
    "\n",
    "df_big=df_March.groupby('location')[['people_vaccinated_per_hundred']].max()\n",
    "df_sort=df_big.sort_values(by='people_vaccinated_per_hundred' ,axis=0, ascending=False)\n",
    "\n",
    "df_sort\n"
   ]
  },
  {
   "cell_type": "code",
   "execution_count": 65,
   "metadata": {},
   "outputs": [
    {
     "data": {
      "text/plain": [
       "94.21"
      ]
     },
     "execution_count": 65,
     "metadata": {},
     "output_type": "execute_result"
    }
   ],
   "source": [
    "mx=df_March.people_vaccinated_per_hundred.max()\n",
    "mx"
   ]
  },
  {
   "cell_type": "markdown",
   "metadata": {},
   "source": [
    "---\n",
    "# GOOD LUCK !!!!\n",
    "---"
   ]
  },
  {
   "cell_type": "code",
   "execution_count": null,
   "metadata": {},
   "outputs": [],
   "source": [
    "# do not type below this line"
   ]
  }
 ],
 "metadata": {
  "kernelspec": {
   "display_name": "Python 3",
   "language": "python",
   "name": "python3"
  },
  "language_info": {
   "codemirror_mode": {
    "name": "ipython",
    "version": 3
   },
   "file_extension": ".py",
   "mimetype": "text/x-python",
   "name": "python",
   "nbconvert_exporter": "python",
   "pygments_lexer": "ipython3",
   "version": "3.8.5"
  }
 },
 "nbformat": 4,
 "nbformat_minor": 4
}
